{
 "cells": [
  {
   "cell_type": "code",
   "execution_count": 2,
   "id": "structural-assets",
   "metadata": {},
   "outputs": [],
   "source": [
    "import numpy as np\n",
    "import meshplot as mp"
   ]
  },
  {
   "cell_type": "code",
   "execution_count": 3,
   "id": "polar-boost",
   "metadata": {},
   "outputs": [],
   "source": [
    "def plot(poses, scale = 1, inv=False):\n",
    "    mats = poses[:, :15].reshape(-1, 3, 5)[:, :, :-1]\n",
    "    mats[0]\n",
    "    mats4x4 = np.repeat(np.eye(4)[None, :], 16, axis=0)\n",
    "    mats4x4[:, :3, :] = mats\n",
    "    #print(mats)\n",
    "\n",
    "    origin = np.array([0.0, 0.0, 0.0, 1.0])\n",
    "    ihat = np.array([1.0, 0.0, 0.0, 0.0])\n",
    "    jhat = np.array([0.0, 1.0, 0.0, 0.0])\n",
    "    khat = np.array([0.0, 0.0, 1.0, 0.0])\n",
    "\n",
    "    origins = []\n",
    "    ihats = []\n",
    "    jhats = []\n",
    "    khats = []\n",
    "    for i in range(16):\n",
    "        if inv:\n",
    "            new_origin = np.linalg.inv(mats4x4[i]) @ origin\n",
    "        else:\n",
    "            new_origin = mats4x4[i] @ origin\n",
    "        origins.append(new_origin[:3])\n",
    "        if inv:\n",
    "            new_ihat = np.linalg.inv(mats4x4[i]) @ ihat\n",
    "        else:\n",
    "            new_ihat = mats4x4[i] @ origin\n",
    "        ihats.append(new_ihat[:3])\n",
    "        if inv:\n",
    "            new_jhat = np.linalg.inv(mats4x4[i]) @ jhat\n",
    "        else:\n",
    "            new_jhat = mats4x4[i] @ origin\n",
    "        jhats.append(new_jhat[:3])\n",
    "        if inv:\n",
    "            new_khat = np.linalg.inv(mats4x4[i]) @ khat\n",
    "        else:\n",
    "            new_khat = mats4x4[i] @ origin\n",
    "        khats.append(new_khat[:3])\n",
    "\n",
    "    origins = np.array(origins) * scale\n",
    "    dist = np.linalg.norm(origins - origins.mean(), axis=1).mean()\n",
    "    print(dist)\n",
    "    ihats = np.array(ihats)\n",
    "    jhats = np.array(jhats)\n",
    "    khats = np.array(khats)\n",
    "\n",
    "    plot = mp.plot(origins, shading={'point_size': 3, 'point_color': 'black'})\n",
    "    plot.add_lines(origins, origins+ihats*10, shading={'line_width': 2, 'line_color': 'red'})\n",
    "    plot.add_lines(origins, origins+jhats*10, shading={'line_width': 2, 'line_color': 'green'})\n",
    "    plot.add_lines(origins, origins+khats*10, shading={'line_width': 2, 'line_color': 'blue'})"
   ]
  },
  {
   "cell_type": "code",
   "execution_count": 8,
   "id": "contemporary-charles",
   "metadata": {},
   "outputs": [
    {
     "name": "stdout",
     "output_type": "stream",
     "text": [
      "140.00000040417484\n"
     ]
    },
    {
     "data": {
      "application/vnd.jupyter.widget-view+json": {
       "model_id": "7a7c81c4ead64f6187958ef6b4385120",
       "version_major": 2,
       "version_minor": 0
      },
      "text/plain": [
       "Renderer(camera=PerspectiveCamera(children=(DirectionalLight(color='white', intensity=0.6, position=(0.0, -1.0…"
      ]
     },
     "metadata": {},
     "output_type": "display_data"
    }
   ],
   "source": [
    "cafe = np.load('cafe.npy')\n",
    "plot(cafe, scale=1000, inv=True)"
   ]
  },
  {
   "cell_type": "code",
   "execution_count": 7,
   "id": "rising-manor",
   "metadata": {},
   "outputs": [
    {
     "name": "stdout",
     "output_type": "stream",
     "text": [
      "150.00000251530642\n"
     ]
    },
    {
     "data": {
      "application/vnd.jupyter.widget-view+json": {
       "model_id": "ced3a7db022d498abaaafdffd71f800b",
       "version_major": 2,
       "version_minor": 0
      },
      "text/plain": [
       "Renderer(camera=PerspectiveCamera(children=(DirectionalLight(color='white', intensity=0.6, position=(0.0, 0.0,…"
      ]
     },
     "metadata": {},
     "output_type": "display_data"
    }
   ],
   "source": [
    "classroom = np.load('classroom/poses_bounds.npy')\n",
    "plot(classroom, scale=1000, inv=True)"
   ]
  },
  {
   "cell_type": "code",
   "execution_count": null,
   "id": "collectible-geography",
   "metadata": {},
   "outputs": [],
   "source": []
  }
 ],
 "metadata": {
  "kernelspec": {
   "display_name": "Python 3",
   "language": "python",
   "name": "python3"
  },
  "language_info": {
   "codemirror_mode": {
    "name": "ipython",
    "version": 3
   },
   "file_extension": ".py",
   "mimetype": "text/x-python",
   "name": "python",
   "nbconvert_exporter": "python",
   "pygments_lexer": "ipython3",
   "version": "3.9.1"
  }
 },
 "nbformat": 4,
 "nbformat_minor": 5
}
